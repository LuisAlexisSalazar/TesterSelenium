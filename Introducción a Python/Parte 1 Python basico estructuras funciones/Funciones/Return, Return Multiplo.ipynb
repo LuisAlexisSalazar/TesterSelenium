{
 "cells": [
  {
   "cell_type": "code",
   "execution_count": 4,
   "metadata": {},
   "outputs": [
    {
     "name": "stdout",
     "output_type": "stream",
     "text": [
      "Hola mundo\n"
     ]
    }
   ],
   "source": [
    "# Retornamos el valor con la palabra return\n",
    "\n",
    "# Retornar string\n",
    "def saludo():\n",
    "    return \"Hola mundo\"\n",
    "\n",
    "print(saludo())"
   ]
  },
  {
   "cell_type": "code",
   "execution_count": 3,
   "metadata": {},
   "outputs": [
    {
     "name": "stdout",
     "output_type": "stream",
     "text": [
      "[5, 6, 7]\n"
     ]
    }
   ],
   "source": [
    "# Retorno de lista de int\n",
    "def edadesEstudiantes():\n",
    "    return [5,6,7]\n",
    "\n",
    "print(edadesEstudiantes())"
   ]
  },
  {
   "cell_type": "code",
   "execution_count": 10,
   "metadata": {},
   "outputs": [
    {
     "name": "stdout",
     "output_type": "stream",
     "text": [
      "<class 'tuple'>\n",
      "('Profesor Alvaro', 35, 'las edades de sus alumnos', [5, 6, 7])\n"
     ]
    }
   ],
   "source": [
    "# Retorno de multiplos valores nos lo devuelve en tuplas\n",
    "def estudiantes():\n",
    "    return \"Profesor Alvaro\",35,\"las edades de sus alumnos\",[5,6,7]\n",
    "\n",
    "print(type(estudiantes()))\n",
    "print(estudiantes())"
   ]
  },
  {
   "cell_type": "code",
   "execution_count": 12,
   "metadata": {},
   "outputs": [
    {
     "name": "stdout",
     "output_type": "stream",
     "text": [
      "Profesor Alvaro\n",
      "35\n",
      "las edades de sus alumnos\n",
      "[5, 6, 7]\n"
     ]
    }
   ],
   "source": [
    "# Guardar en los valores multiplos aunque tambien podemos usar los indices por ser un tupla\n",
    "Nombreprofesor,edadProfesor,oracion,edadesAlumnos = estudiantes()\n",
    "\n",
    "print(Nombreprofesor)\n",
    "print(edadProfesor)\n",
    "print(oracion)\n",
    "print(edadesAlumnos)"
   ]
  },
  {
   "cell_type": "code",
   "execution_count": 14,
   "metadata": {},
   "outputs": [
    {
     "data": {
      "text/plain": [
       "20"
      ]
     },
     "execution_count": 14,
     "metadata": {},
     "output_type": "execute_result"
    }
   ],
   "source": [
    "# Parametros\n",
    "def suma(i,x):\n",
    "    return i*x\n",
    "\n",
    "variable = suma(5,4)\n",
    "variable"
   ]
  },
  {
   "cell_type": "code",
   "execution_count": null,
   "metadata": {},
   "outputs": [],
   "source": []
  }
 ],
 "metadata": {
  "kernelspec": {
   "display_name": "Python 3",
   "language": "python",
   "name": "python3"
  },
  "language_info": {
   "codemirror_mode": {
    "name": "ipython",
    "version": 3
   },
   "file_extension": ".py",
   "mimetype": "text/x-python",
   "name": "python",
   "nbconvert_exporter": "python",
   "pygments_lexer": "ipython3",
   "version": "3.8.5"
  }
 },
 "nbformat": 4,
 "nbformat_minor": 4
}
