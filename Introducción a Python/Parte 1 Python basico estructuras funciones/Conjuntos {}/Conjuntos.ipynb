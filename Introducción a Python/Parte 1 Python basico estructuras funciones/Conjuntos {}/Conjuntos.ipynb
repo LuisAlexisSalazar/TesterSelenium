{
 "cells": [
  {
   "cell_type": "code",
   "execution_count": 1,
   "metadata": {},
   "outputs": [
    {
     "data": {
      "text/plain": [
       "{3, 4, 5}"
      ]
     },
     "execution_count": 1,
     "metadata": {},
     "output_type": "execute_result"
    }
   ],
   "source": [
    "# Es una listado de datos pero no ordenados , ordena lo que puede con sus criterios\n",
    "con = {5,4,3}\n",
    "con"
   ]
  },
  {
   "cell_type": "code",
   "execution_count": 4,
   "metadata": {},
   "outputs": [
    {
     "data": {
      "text/plain": [
       "{2, 3, 4, 5, 6}"
      ]
     },
     "execution_count": 4,
     "metadata": {},
     "output_type": "execute_result"
    }
   ],
   "source": [
    "# Funciones \n",
    "# Add añade el elemento he intenta ordenar lo que puede\n",
    "con.add(6)\n",
    "con.add(2)\n",
    "con"
   ]
  },
  {
   "cell_type": "code",
   "execution_count": 5,
   "metadata": {},
   "outputs": [
    {
     "data": {
      "text/plain": [
       "{2, 3, 4, 5, 6, 'B', 'H', 'Y'}"
      ]
     },
     "execution_count": 5,
     "metadata": {},
     "output_type": "execute_result"
    }
   ],
   "source": [
    "# primero pone ordenadamente primero ordena los numeros luego las letras\n",
    "con.add('H')\n",
    "con.add('B')\n",
    "con.add('Y')\n",
    "con"
   ]
  },
  {
   "cell_type": "code",
   "execution_count": 6,
   "metadata": {},
   "outputs": [
    {
     "data": {
      "text/plain": [
       "True"
      ]
     },
     "execution_count": 6,
     "metadata": {},
     "output_type": "execute_result"
    }
   ],
   "source": [
    "# Verificar si pertenece un elemento\n",
    "coleccion={'Misestudiantes','Yo','vos'}\n",
    "'vos' in coleccion"
   ]
  },
  {
   "cell_type": "code",
   "execution_count": 8,
   "metadata": {},
   "outputs": [
    {
     "data": {
      "text/plain": [
       "{'repetido'}"
      ]
     },
     "execution_count": 8,
     "metadata": {},
     "output_type": "execute_result"
    }
   ],
   "source": [
    "# No permite tener elementos repetidos a la coleecion\n",
    "repetido={'repetido','repetido','repetido','repetido','repetido'}\n",
    "repetido"
   ]
  },
  {
   "cell_type": "code",
   "execution_count": 9,
   "metadata": {},
   "outputs": [
    {
     "name": "stdout",
     "output_type": "stream",
     "text": [
      "lista: [5, 5, 5, 6, 6, 7, 9, 1, 1]\n",
      "conjunto: {1, 5, 6, 7, 9}\n"
     ]
    }
   ],
   "source": [
    "# Transformar lista a conjunto\n",
    "lista=[5,5,5,6,6,7,9,1,1]\n",
    "\n",
    "conjunto=set(lista)\n",
    "\n",
    "print('lista:',lista)\n",
    "print('conjunto:',conjunto)"
   ]
  },
  {
   "cell_type": "code",
   "execution_count": 11,
   "metadata": {},
   "outputs": [
    {
     "name": "stdout",
     "output_type": "stream",
     "text": [
      "{'c', 'e', 'h', 's', 'l', 'a', 'y', 'n', 'u', 't', 'm', 'z', 'o', 'd', 'i', ' '}\n"
     ]
    }
   ],
   "source": [
    "# Transformar cadena a un conjunto\n",
    "cadena = 'hola mundo como estas hoy no hize nada'\n",
    "\n",
    "cojunto2 = set(cadena)\n",
    "print(cojunto2)"
   ]
  }
 ],
 "metadata": {
  "kernelspec": {
   "display_name": "Python 3",
   "language": "python",
   "name": "python3"
  },
  "language_info": {
   "codemirror_mode": {
    "name": "ipython",
    "version": 3
   },
   "file_extension": ".py",
   "mimetype": "text/x-python",
   "name": "python",
   "nbconvert_exporter": "python",
   "pygments_lexer": "ipython3",
   "version": "3.8.5"
  }
 },
 "nbformat": 4,
 "nbformat_minor": 4
}
