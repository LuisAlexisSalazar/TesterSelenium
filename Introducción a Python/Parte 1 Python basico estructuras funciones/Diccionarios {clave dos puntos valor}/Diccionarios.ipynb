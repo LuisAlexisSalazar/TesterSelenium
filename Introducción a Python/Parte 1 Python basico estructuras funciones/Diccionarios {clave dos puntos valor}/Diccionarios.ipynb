{
 "cells": [
  {
   "cell_type": "code",
   "execution_count": 5,
   "metadata": {},
   "outputs": [
    {
     "data": {
      "text/plain": [
       "{'Edad': 15, 'Nombre': 'Luis', 'Apellido': 'Salazar'}"
      ]
     },
     "execution_count": 5,
     "metadata": {},
     "output_type": "execute_result"
    }
   ],
   "source": [
    "diccionarios={'Edad':15,'Nombre':'Luis','Apellido':'Salazar'}\n",
    "diccionarios"
   ]
  },
  {
   "cell_type": "code",
   "execution_count": 2,
   "metadata": {},
   "outputs": [
    {
     "data": {
      "text/plain": [
       "dict"
      ]
     },
     "execution_count": 2,
     "metadata": {},
     "output_type": "execute_result"
    }
   ],
   "source": [
    "type(diccionarios)"
   ]
  },
  {
   "cell_type": "code",
   "execution_count": 6,
   "metadata": {},
   "outputs": [
    {
     "data": {
      "text/plain": [
       "{'Edad': 15, 'Nombre': 'Luis'}"
      ]
     },
     "execution_count": 6,
     "metadata": {},
     "output_type": "execute_result"
    }
   ],
   "source": [
    "# Eliminar elemento en un diccionario pasando la clave\n",
    "del(diccionarios['Apellido'])\n",
    "diccionarios"
   ]
  },
  {
   "cell_type": "code",
   "execution_count": 8,
   "metadata": {},
   "outputs": [
    {
     "data": {
      "text/plain": [
       "{'Edad': 20, 'Nombre': 'Luis'}"
      ]
     },
     "execution_count": 8,
     "metadata": {},
     "output_type": "execute_result"
    }
   ],
   "source": [
    "# Acceder el valor\n",
    "diccionarios['Edad']+=5\n",
    "diccionarios"
   ]
  },
  {
   "cell_type": "code",
   "execution_count": 13,
   "metadata": {},
   "outputs": [
    {
     "name": "stdout",
     "output_type": "stream",
     "text": [
      "Clave: Edad\n",
      "Valor: 20 \n",
      "\n",
      "Clave: Nombre\n",
      "Valor: Luis \n",
      "\n"
     ]
    }
   ],
   "source": [
    "# Recorrer con un for el diccionario solo claves\n",
    "for clave in diccionarios:\n",
    "    print('Clave:',clave)\n",
    "    print('Valor:',diccionarios[clave],'\\n')"
   ]
  },
  {
   "cell_type": "code",
   "execution_count": 15,
   "metadata": {},
   "outputs": [],
   "source": [
    "datos_extras = {'celular':'Xperia XZP','cabello':'Lacio'}"
   ]
  },
  {
   "cell_type": "code",
   "execution_count": 16,
   "metadata": {},
   "outputs": [
    {
     "name": "stdout",
     "output_type": "stream",
     "text": [
      "[1, 2, 3]\n",
      "[1, 2, 3, {'Edad': 20, 'Nombre': 'Luis'}]\n",
      "[1, 2, 3, {'Edad': 20, 'Nombre': 'Luis'}, {'celular': 'Xperia XZP', 'cabello': 'Lacio'}]\n"
     ]
    }
   ],
   "source": [
    "# Añadir un diccionario a una lista\n",
    "lista=[1,2,3]\n",
    "print(lista)\n",
    "\n",
    "lista.append(diccionarios)\n",
    "print(lista)\n",
    "\n",
    "lista.append(datos_extras)\n",
    "print(lista)"
   ]
  }
 ],
 "metadata": {
  "kernelspec": {
   "display_name": "Python 3",
   "language": "python",
   "name": "python3"
  },
  "language_info": {
   "codemirror_mode": {
    "name": "ipython",
    "version": 3
   },
   "file_extension": ".py",
   "mimetype": "text/x-python",
   "name": "python",
   "nbconvert_exporter": "python",
   "pygments_lexer": "ipython3",
   "version": "3.8.5"
  }
 },
 "nbformat": 4,
 "nbformat_minor": 4
}
