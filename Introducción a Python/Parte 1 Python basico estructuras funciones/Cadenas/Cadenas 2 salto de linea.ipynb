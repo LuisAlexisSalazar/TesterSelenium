{
 "cells": [
  {
   "cell_type": "code",
   "execution_count": 2,
   "metadata": {},
   "outputs": [
    {
     "name": "stdout",
     "output_type": "stream",
     "text": [
      "De tal astilla \n",
      "es el padre a tal \n",
      "palo es el \t padre\n"
     ]
    }
   ],
   "source": [
    "# Escribe con enter como espaciados de lineas \n",
    "print(\"\"\"De tal astilla \n",
    "es el padre a tal \n",
    "palo es el \\t padre\"\"\")"
   ]
  },
  {
   "cell_type": "code",
   "execution_count": 8,
   "metadata": {},
   "outputs": [
    {
     "name": "stdout",
     "output_type": "stream",
     "text": [
      "Teoria sobre este tema donde salto la linea \n",
      "son dos lineas\n"
     ]
    }
   ],
   "source": [
    "# la variable guarda el salto de linea cuando insertamos \"\\n\" junto a la frase\n",
    "variable = \"Teoria sobre este tema donde salto la linea \\nson dos lineas\"\n",
    "print(variable)"
   ]
  },
  {
   "cell_type": "code",
   "execution_count": 9,
   "metadata": {},
   "outputs": [
    {
     "data": {
      "text/plain": [
       "'Teoria sobre este tema donde salto la linea \\nson dos lineasTeoria sobre este tema donde salto la linea \\nson dos lineas'"
      ]
     },
     "execution_count": 9,
     "metadata": {},
     "output_type": "execute_result"
    }
   ],
   "source": [
    "variable+variable"
   ]
  },
  {
   "cell_type": "code",
   "execution_count": null,
   "metadata": {},
   "outputs": [],
   "source": []
  }
 ],
 "metadata": {
  "kernelspec": {
   "display_name": "Python 3",
   "language": "python",
   "name": "python3"
  },
  "language_info": {
   "codemirror_mode": {
    "name": "ipython",
    "version": 3
   },
   "file_extension": ".py",
   "mimetype": "text/x-python",
   "name": "python",
   "nbconvert_exporter": "python",
   "pygments_lexer": "ipython3",
   "version": "3.8.5"
  }
 },
 "nbformat": 4,
 "nbformat_minor": 4
}
