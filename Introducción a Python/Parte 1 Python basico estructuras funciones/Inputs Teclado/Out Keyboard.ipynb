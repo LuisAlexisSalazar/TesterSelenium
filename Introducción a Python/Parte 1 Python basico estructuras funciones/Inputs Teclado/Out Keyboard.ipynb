{
 "cells": [
  {
   "cell_type": "code",
   "execution_count": 1,
   "metadata": {},
   "outputs": [
    {
     "name": "stdout",
     "output_type": "stream",
     "text": [
      "Hola mundo\n"
     ]
    }
   ],
   "source": [
    "print(\"Hola mundo\")"
   ]
  },
  {
   "cell_type": "code",
   "execution_count": 3,
   "metadata": {},
   "outputs": [
    {
     "name": "stdout",
     "output_type": "stream",
     "text": [
      "el profesor Alvaro Chirou y sus Genios estudaintes\n"
     ]
    }
   ],
   "source": [
    "\n",
    "varaible = 'Alvaro Chirou'\n",
    "otra = 'Genios estudaintes'\n",
    "\n",
    "# Funcion format\n",
    "# Se usa la es que la nueva variable es creada a partir de otra\n",
    "forma = \"el profesor {} y sus {}\".format(varaible,otra)\n",
    "forma"
   ]
  },
  {
   "cell_type": "code",
   "execution_count": 4,
   "metadata": {},
   "outputs": [
    {
     "name": "stdout",
     "output_type": "stream",
     "text": [
      "Luis Salazar\n"
     ]
    }
   ],
   "source": [
    "# Funcion format para impresion\n",
    "# Una impresion de tabulacion de 50 espacios del lado derecho\n",
    "print('{:10}'.format('Luis Salazar'))"
   ]
  },
  {
   "cell_type": "code",
   "execution_count": 8,
   "metadata": {},
   "outputs": [
    {
     "name": "stdout",
     "output_type": "stream",
     "text": [
      "        Luis Salazar\n"
     ]
    }
   ],
   "source": [
    "# Impresion para el lado izquierdo\n",
    "print('{:>20}'.format('Luis Salazar'))"
   ]
  }
 ],
 "metadata": {
  "kernelspec": {
   "display_name": "Python 3",
   "language": "python",
   "name": "python3"
  },
  "language_info": {
   "codemirror_mode": {
    "name": "ipython",
    "version": 3
   },
   "file_extension": ".py",
   "mimetype": "text/x-python",
   "name": "python",
   "nbconvert_exporter": "python",
   "pygments_lexer": "ipython3",
   "version": "3.8.5"
  }
 },
 "nbformat": 4,
 "nbformat_minor": 4
}
