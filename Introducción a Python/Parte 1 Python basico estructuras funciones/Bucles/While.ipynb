{
 "cells": [
  {
   "cell_type": "code",
   "execution_count": 2,
   "metadata": {},
   "outputs": [
    {
     "name": "stdout",
     "output_type": "stream",
     "text": [
      "Iterando 2\n",
      "Iterando 3\n",
      "Iterando 4\n"
     ]
    }
   ],
   "source": [
    "iteracion = 1\n",
    "while iteracion <= 3:\n",
    "    iteracion +=1\n",
    "    print(\"Iterando\",iteracion)\n",
    "    "
   ]
  },
  {
   "cell_type": "code",
   "execution_count": 5,
   "metadata": {},
   "outputs": [
    {
     "name": "stdout",
     "output_type": "stream",
     "text": [
      "Iterando 4\n"
     ]
    }
   ],
   "source": [
    "iteracion = 1\n",
    "while iteracion <= 3:\n",
    "    iteracion +=1\n",
    "    if (iteracion == 4):\n",
    "        print(\"Iterando\",iteracion)\n",
    "        break\n",
    "else:\n",
    "    print(\"Despues del While\")"
   ]
  },
  {
   "cell_type": "code",
   "execution_count": null,
   "metadata": {},
   "outputs": [],
   "source": []
  }
 ],
 "metadata": {
  "kernelspec": {
   "display_name": "Python 3",
   "language": "python",
   "name": "python3"
  },
  "language_info": {
   "codemirror_mode": {
    "name": "ipython",
    "version": 3
   },
   "file_extension": ".py",
   "mimetype": "text/x-python",
   "name": "python",
   "nbconvert_exporter": "python",
   "pygments_lexer": "ipython3",
   "version": "3.8.5"
  }
 },
 "nbformat": 4,
 "nbformat_minor": 4
}
