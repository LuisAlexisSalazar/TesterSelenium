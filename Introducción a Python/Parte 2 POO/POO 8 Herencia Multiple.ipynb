{
 "cells": [
  {
   "cell_type": "code",
   "execution_count": 7,
   "metadata": {},
   "outputs": [],
   "source": [
    "# python no tiene exactamente herencia multiple\n",
    "class primero:\n",
    "    def __init__(self):\n",
    "        print(\"Yo soy la primera clase\")\n",
    "    \n",
    "    def primero(self):\n",
    "        print(\"Este es el metodo heredado de Primera\")\n",
    "\n",
    "class segunda:\n",
    "    def __init__(self):\n",
    "        print(\"Yo soy la segunda clase\")\n",
    "    \n",
    "    def segunda(self):\n",
    "        print(\"Este es el metodo heredado de segunda\")\n",
    "\n",
    "        \n",
    "class tercera(primero,segunda):\n",
    "    def tercera(self):\n",
    "         print(\"Este es el metodo heredado de tercera\")"
   ]
  },
  {
   "cell_type": "code",
   "execution_count": 8,
   "metadata": {},
   "outputs": [
    {
     "name": "stdout",
     "output_type": "stream",
     "text": [
      "Yo soy la primera clase\n"
     ]
    }
   ],
   "source": [
    "# Notamos que a pesar de tener herencia de primera y segunda solo llama al construvtor de primera\n",
    "# pero de segunda no\n",
    "herencia_multiple = tercera()"
   ]
  },
  {
   "cell_type": "code",
   "execution_count": 10,
   "metadata": {},
   "outputs": [
    {
     "name": "stdout",
     "output_type": "stream",
     "text": [
      "Este es el metodo heredado de Primera\n",
      "Este es el metodo heredado de segunda\n"
     ]
    }
   ],
   "source": [
    "# Al definir nuevos metodos podemos llamarlos desde la clase heredada\n",
    "herencia_multiple.primero()\n",
    "herencia_multiple.segunda()"
   ]
  }
 ],
 "metadata": {
  "kernelspec": {
   "display_name": "Python 3",
   "language": "python",
   "name": "python3"
  },
  "language_info": {
   "codemirror_mode": {
    "name": "ipython",
    "version": 3
   },
   "file_extension": ".py",
   "mimetype": "text/x-python",
   "name": "python",
   "nbconvert_exporter": "python",
   "pygments_lexer": "ipython3",
   "version": "3.8.5"
  }
 },
 "nbformat": 4,
 "nbformat_minor": 4
}
