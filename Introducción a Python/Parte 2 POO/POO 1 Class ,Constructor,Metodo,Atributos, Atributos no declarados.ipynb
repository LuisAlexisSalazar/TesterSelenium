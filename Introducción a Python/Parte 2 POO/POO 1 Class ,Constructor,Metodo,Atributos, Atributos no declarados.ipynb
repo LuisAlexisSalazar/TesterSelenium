{
 "cells": [
  {
   "cell_type": "code",
   "execution_count": 19,
   "metadata": {},
   "outputs": [],
   "source": [
    "# Crear una clase\n",
    "class auto:\n",
    "    # Atributos\n",
    "    color = \"Ninguno\"\n",
    "    \n",
    "    # Constructor     \n",
    "    def __init__(self):\n",
    "        print(\"se creo un auto\")\n",
    "        \n",
    "    def fabricar(self):\n",
    "        # De esta manera accedemos al atributo que definimos\n",
    "        self.color = \"Rojo\"\n",
    "    def confirmar_fabricacion(self):\n",
    "        if self.color != \"Ninguno\":\n",
    "            print(\"Auto coloreado\")\n",
    "        else:\n",
    "            print(\"No esta coloreado\")"
   ]
  },
  {
   "cell_type": "code",
   "execution_count": 20,
   "metadata": {},
   "outputs": [
    {
     "name": "stdout",
     "output_type": "stream",
     "text": [
      "se creo un auto\n",
      "<class '__main__.auto'>\n"
     ]
    }
   ],
   "source": [
    "# Instancear una clase  y imprimir su tipo\n",
    "# Se llama automaticamente al constructor\n",
    "consecionaria = auto()\n",
    "print(type(consecionaria))"
   ]
  },
  {
   "cell_type": "code",
   "execution_count": 21,
   "metadata": {},
   "outputs": [
    {
     "name": "stdout",
     "output_type": "stream",
     "text": [
      "La cantidad de puertas son: 4\n",
      "Color es:: Ninguno\n"
     ]
    }
   ],
   "source": [
    "# Crear Atributos despues de instanciar la clase\n",
    "consecionaria.puertas = 4\n",
    "print(\"La cantidad de puertas son:\",consecionaria.puertas)\n",
    "print(\"Color es::\",consecionaria.color)"
   ]
  },
  {
   "cell_type": "code",
   "execution_count": 23,
   "metadata": {},
   "outputs": [
    {
     "name": "stdout",
     "output_type": "stream",
     "text": [
      "Color es:: Rojo\n"
     ]
    }
   ],
   "source": [
    "# Llamar a un metodo\n",
    "consecionaria.fabricar()\n",
    "print(\"Color es::\",consecionaria.color)"
   ]
  },
  {
   "cell_type": "code",
   "execution_count": 24,
   "metadata": {},
   "outputs": [
    {
     "name": "stdout",
     "output_type": "stream",
     "text": [
      "Auto coloreado\n"
     ]
    }
   ],
   "source": [
    "consecionaria.confirmar_fabricacion()"
   ]
  }
 ],
 "metadata": {
  "kernelspec": {
   "display_name": "Python 3",
   "language": "python",
   "name": "python3"
  },
  "language_info": {
   "codemirror_mode": {
    "name": "ipython",
    "version": 3
   },
   "file_extension": ".py",
   "mimetype": "text/x-python",
   "name": "python",
   "nbconvert_exporter": "python",
   "pygments_lexer": "ipython3",
   "version": "3.8.5"
  }
 },
 "nbformat": 4,
 "nbformat_minor": 4
}
