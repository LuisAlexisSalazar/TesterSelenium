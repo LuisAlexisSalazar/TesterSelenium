{
 "cells": [
  {
   "cell_type": "code",
   "execution_count": 28,
   "metadata": {},
   "outputs": [],
   "source": [
    "class fabrica:\n",
    "    \n",
    "#     Constructor\n",
    "    def __init__(self,tiempo,nombre,ruedas):\n",
    "        self.tiempo = tiempo\n",
    "        self.nombre = nombre\n",
    "        self.ruedas = ruedas\n",
    "        print(\"Se creo el auto \", self.nombre)\n",
    "    \n",
    "    def __str__(self):\n",
    "        return \"{}({})\".format(self.nombre,self.tiempo)\n",
    "        "
   ]
  },
  {
   "cell_type": "code",
   "execution_count": 29,
   "metadata": {},
   "outputs": [],
   "source": [
    "class Listado:\n",
    "    autos = []\n",
    "    \n",
    "    def __init__(self, autos=[]):\n",
    "        self.autos = autos\n",
    "    \n",
    "    def fabricar(self,x):\n",
    "        self.autos.append(x)\n",
    "        \n",
    "    def visualizar(self):\n",
    "        for x in self.autos:\n",
    "            print(str(x))\n",
    "#             Tambien es factible poner solo print(x) porque por dentro hara la conversion str()"
   ]
  },
  {
   "cell_type": "code",
   "execution_count": 30,
   "metadata": {},
   "outputs": [
    {
     "name": "stdout",
     "output_type": "stream",
     "text": [
      "Se creo el auto  Alvaro\n"
     ]
    }
   ],
   "source": [
    "a = fabrica(10,\"Alvaro\",4)"
   ]
  },
  {
   "cell_type": "code",
   "execution_count": 31,
   "metadata": {},
   "outputs": [],
   "source": [
    "l = Listado([a])"
   ]
  },
  {
   "cell_type": "code",
   "execution_count": 34,
   "metadata": {},
   "outputs": [
    {
     "name": "stdout",
     "output_type": "stream",
     "text": [
      "Alvaro(10)\n",
      "Estudiantes(15)\n"
     ]
    }
   ],
   "source": [
    "l.visualizar()"
   ]
  },
  {
   "cell_type": "code",
   "execution_count": 33,
   "metadata": {},
   "outputs": [
    {
     "name": "stdout",
     "output_type": "stream",
     "text": [
      "Se creo el auto  Estudiantes\n"
     ]
    }
   ],
   "source": [
    "l.fabricar(fabrica(15,\"Estudiantes\",2))"
   ]
  }
 ],
 "metadata": {
  "kernelspec": {
   "display_name": "Python 3",
   "language": "python",
   "name": "python3"
  },
  "language_info": {
   "codemirror_mode": {
    "name": "ipython",
    "version": 3
   },
   "file_extension": ".py",
   "mimetype": "text/x-python",
   "name": "python",
   "nbconvert_exporter": "python",
   "pygments_lexer": "ipython3",
   "version": "3.8.5"
  }
 },
 "nbformat": 4,
 "nbformat_minor": 4
}
