{
 "cells": [
  {
   "cell_type": "code",
   "execution_count": 1,
   "metadata": {},
   "outputs": [],
   "source": [
    "# Clase sin herencia\n",
    "class Fabrica:\n",
    "    def __init__(self,marca,nombre,precio,descripcion,ruedas=None,distribuidor=None):\n",
    "        self.marca = marca\n",
    "        self.nombre = nombre\n",
    "        self.precio = precio\n",
    "        self.descripcion = descripcion\n",
    "        self.ruedas = ruedas\n",
    "        self.distribuidor = distribuidor\n",
    "        \n",
    "Auto = Fabrica('Ford','Ranger','Camioneta 4x4',4)"
   ]
  },
  {
   "cell_type": "code",
   "execution_count": 5,
   "metadata": {},
   "outputs": [],
   "source": [
    "# SuperClase\n",
    "class Fabrica:\n",
    "    def __init__(self,marca,nombre,precio,descripcion):\n",
    "        self.marca = marca\n",
    "        self.nombre = nombre\n",
    "        self.precio = precio\n",
    "        self.descripcion = descripcion\n",
    "    def __str__(self):\n",
    "        return \"\"\"\n",
    "                Marca \\t\\t{}\n",
    "                Nombre \\t\\t{}\n",
    "                Precio \\t\\t{}\n",
    "                Descripción \\t{}\"\"\".format(self.marca,self.nombre,self.precio,self.descripcion)"
   ]
  },
  {
   "cell_type": "code",
   "execution_count": 7,
   "metadata": {},
   "outputs": [
    {
     "name": "stdout",
     "output_type": "stream",
     "text": [
      "\n",
      "                Marca \t\tFord\n",
      "                Nombre \t\tRanger\n",
      "                Precio \t\t100.0\n",
      "                Descripción \tCamionero\n"
     ]
    }
   ],
   "source": [
    "# Herencia al poner el nombre de la clase padre dentro de ()\n",
    "# Creamos la subclase\n",
    "class Auto(Fabrica):\n",
    "    pass\n",
    "\n",
    "# Hereda el constructor de la clase padre\n",
    "z = Auto('Ford','Ranger',100.00,'Camionero')\n",
    "print(z)"
   ]
  },
  {
   "cell_type": "code",
   "execution_count": 16,
   "metadata": {},
   "outputs": [],
   "source": [
    "class Deportivo(Fabrica):\n",
    "    ruedas = 0\n",
    "    distribuidor = \"\"\n",
    "    \n",
    "    def __str__ (self):return \"\"\"\n",
    "                Marca \\t\\t{}\n",
    "                Nombre \\t\\t{}\n",
    "                Precio \\t\\t{}\n",
    "                ruedas \\t\\t{}\n",
    "                distribuidor \\t{}\n",
    "                Descripción \\t{}\"\"\".format(self.marca,self.nombre,self.precio,self.ruedas,self.distribuidor,self.descripcion)"
   ]
  },
  {
   "cell_type": "code",
   "execution_count": 17,
   "metadata": {},
   "outputs": [
    {
     "name": "stdout",
     "output_type": "stream",
     "text": [
      "\n",
      "                Marca \t\tVolkswagen\n",
      "                Nombre \t\tVento\n",
      "                Precio \t\t5400\n",
      "                ruedas \t\t3\n",
      "                distribuidor \ttu autito\n",
      "                Descripción \tel mejor\n"
     ]
    }
   ],
   "source": [
    "d = Deportivo('Volkswagen','Vento',5400,'el mejor')\n",
    "d.ruedas = 3\n",
    "d.distribuidor = 'tu autito'\n",
    "\n",
    "print(d)"
   ]
  }
 ],
 "metadata": {
  "kernelspec": {
   "display_name": "Python 3",
   "language": "python",
   "name": "python3"
  },
  "language_info": {
   "codemirror_mode": {
    "name": "ipython",
    "version": 3
   },
   "file_extension": ".py",
   "mimetype": "text/x-python",
   "name": "python",
   "nbconvert_exporter": "python",
   "pygments_lexer": "ipython3",
   "version": "3.8.5"
  }
 },
 "nbformat": 4,
 "nbformat_minor": 4
}
