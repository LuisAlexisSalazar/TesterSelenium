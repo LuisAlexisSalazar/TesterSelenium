{
 "cells": [
  {
   "cell_type": "code",
   "execution_count": 24,
   "metadata": {},
   "outputs": [],
   "source": [
    "# Encapsulamiento es el protected,public,private..\n",
    "class encapsulamiento:\n",
    "    __privado_atri = \"Soy un atributo que no vas a poder acceder desde afuera de la clase\"\n",
    "   \n",
    "    def __privado_meto(self):\n",
    "        print(\"Soy un metodo que no vas a poder acceder desde afuera de la clase\")\n",
    "        \n",
    "#     hacer accesibles a los atributos y metodos privados\n",
    "    def publico_atri(self):\n",
    "        return self.__privado_atri\n",
    "    def public_met(self):\n",
    "        return self.__privado_meto()\n",
    "        \n",
    "        "
   ]
  },
  {
   "cell_type": "code",
   "execution_count": 25,
   "metadata": {},
   "outputs": [
    {
     "data": {
      "text/plain": [
       "<__main__.encapsulamiento at 0x254d57e1e20>"
      ]
     },
     "execution_count": 25,
     "metadata": {},
     "output_type": "execute_result"
    }
   ],
   "source": [
    "e = encapsulamiento()\n",
    "e"
   ]
  },
  {
   "cell_type": "code",
   "execution_count": 26,
   "metadata": {},
   "outputs": [
    {
     "ename": "AttributeError",
     "evalue": "'encapsulamiento' object has no attribute '__privado_atri'",
     "output_type": "error",
     "traceback": [
      "\u001b[1;31m---------------------------------------------------------------------------\u001b[0m",
      "\u001b[1;31mAttributeError\u001b[0m                            Traceback (most recent call last)",
      "\u001b[1;32m<ipython-input-26-232f1fcd641c>\u001b[0m in \u001b[0;36m<module>\u001b[1;34m\u001b[0m\n\u001b[0;32m      1\u001b[0m \u001b[1;31m# Esto dara error dira que la clase no tiene este atributo  y al metodo\u001b[0m\u001b[1;33m\u001b[0m\u001b[1;33m\u001b[0m\u001b[1;33m\u001b[0m\u001b[0m\n\u001b[1;32m----> 2\u001b[1;33m \u001b[0me\u001b[0m\u001b[1;33m.\u001b[0m\u001b[0m__privado_atri\u001b[0m\u001b[1;33m\u001b[0m\u001b[1;33m\u001b[0m\u001b[0m\n\u001b[0m\u001b[0;32m      3\u001b[0m \u001b[0me\u001b[0m\u001b[1;33m.\u001b[0m\u001b[0m__privado_meto\u001b[0m\u001b[1;33m\u001b[0m\u001b[1;33m\u001b[0m\u001b[0m\n",
      "\u001b[1;31mAttributeError\u001b[0m: 'encapsulamiento' object has no attribute '__privado_atri'"
     ]
    }
   ],
   "source": [
    "# Esto dara error dira que la clase no tiene este atributo  y al metodo\n",
    "e.__privado_atri\n",
    "e.__privado_meto"
   ]
  },
  {
   "cell_type": "code",
   "execution_count": 27,
   "metadata": {},
   "outputs": [
    {
     "data": {
      "text/plain": [
       "'Soy un atributo que no vas a poder acceder desde afuera de la clase'"
      ]
     },
     "execution_count": 27,
     "metadata": {},
     "output_type": "execute_result"
    }
   ],
   "source": [
    "# Acceder a los metodos y atributos ahora accesibles desde afuera\n",
    "e.publico_atri()"
   ]
  },
  {
   "cell_type": "code",
   "execution_count": 28,
   "metadata": {},
   "outputs": [
    {
     "name": "stdout",
     "output_type": "stream",
     "text": [
      "Soy un metodo que no vas a poder acceder desde afuera de la clase\n"
     ]
    }
   ],
   "source": [
    "e.public_met()"
   ]
  }
 ],
 "metadata": {
  "kernelspec": {
   "display_name": "Python 3",
   "language": "python",
   "name": "python3"
  },
  "language_info": {
   "codemirror_mode": {
    "name": "ipython",
    "version": 3
   },
   "file_extension": ".py",
   "mimetype": "text/x-python",
   "name": "python",
   "nbconvert_exporter": "python",
   "pygments_lexer": "ipython3",
   "version": "3.8.5"
  }
 },
 "nbformat": 4,
 "nbformat_minor": 4
}
