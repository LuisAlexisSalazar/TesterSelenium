{
 "cells": [
  {
   "cell_type": "code",
   "execution_count": 1,
   "metadata": {},
   "outputs": [],
   "source": [
    "# SuperClase\n",
    "class Fabrica:\n",
    "    def __init__(self,marca,nombre,precio,descripcion):\n",
    "        self.marca = marca\n",
    "        self.nombre = nombre\n",
    "        self.precio = precio\n",
    "        self.descripcion = descripcion\n",
    "    def __str__(self):\n",
    "        return \"\"\"\n",
    "                Marca \\t\\t{}\n",
    "                Nombre \\t\\t{}\n",
    "                Precio \\t\\t{}\n",
    "                Descripción \\t{}\"\"\".format(self.marca,self.nombre,self.precio,self.descripcion)\n",
    "class Auto(Fabrica):\n",
    "    pass\n",
    "\n",
    "class Deportivo(Fabrica):\n",
    "    ruedas = 0\n",
    "    distribuidor = \"\"\n",
    "    \n",
    "    def __str__ (self):return \"\"\"\n",
    "                Marca \\t\\t{}\n",
    "                Nombre \\t\\t{}\n",
    "                Precio \\t\\t{}\n",
    "                ruedas \\t\\t{}\n",
    "                distribuidor \\t{}\n",
    "                Descripción \\t{}\"\"\".format(self.marca,self.nombre,self.precio,self.ruedas,self.distribuidor,self.descripcion)\n",
    "\n",
    "class Accesorios(Fabrica):\n",
    "    autor= \"\"\n",
    "    fabricante = \"\"\n",
    "    def __str__(self):\n",
    "            return \"\"\"\n",
    "                    Marca \\t\\t{}\n",
    "                    Nombre \\t\\t{}\n",
    "                    Precio \\t\\t{}\n",
    "                    Autor \\t\\t{}\n",
    "                    Fabricante \\t{}\n",
    "                    Descripción \\t{}\"\"\".format(self.marca,self.nombre,self.precio,self.autor,self.fabricante,self.descripcion)\n",
    "\n",
    "        "
   ]
  },
  {
   "cell_type": "code",
   "execution_count": 2,
   "metadata": {},
   "outputs": [],
   "source": [
    "a = Auto('Ford','Ranger',100.00,'Camionero')\n",
    "\n",
    "d = Deportivo('Volkswagen','Vento',5400,'el mejor')\n",
    "d.ruedas = 3\n",
    "d.distribuidor = 'tu autito'\n",
    "\n",
    "acc = Accesorios('Fiat','Luces de neon',1000,'Ilumina mejor')\n",
    "acc.autor = 'Vos'\n",
    "acc.fabricante = 'Yo'"
   ]
  },
  {
   "cell_type": "code",
   "execution_count": 3,
   "metadata": {},
   "outputs": [],
   "source": [
    "# Almacensmoas 2 objetos diferentes\n",
    "fabrica = [acc,d]"
   ]
  },
  {
   "cell_type": "code",
   "execution_count": 4,
   "metadata": {},
   "outputs": [
    {
     "data": {
      "text/plain": [
       "[<__main__.Accesorios at 0x25b0302e910>,\n",
       " <__main__.Deportivo at 0x25b0302e880>,\n",
       " <__main__.Auto at 0x25b0302e580>]"
      ]
     },
     "execution_count": 4,
     "metadata": {},
     "output_type": "execute_result"
    }
   ],
   "source": [
    "fabrica.append(a)\n",
    "fabrica"
   ]
  },
  {
   "cell_type": "code",
   "execution_count": 5,
   "metadata": {},
   "outputs": [
    {
     "name": "stdout",
     "output_type": "stream",
     "text": [
      "\n",
      "                    Marca \t\tFiat\n",
      "                    Nombre \t\tLuces de neon\n",
      "                    Precio \t\t1000\n",
      "                    Autor \t\tVos\n",
      "                    Fabricante \tYo\n",
      "                    Descripción \tIlumina mejor \n",
      "\n",
      "\n",
      "                Marca \t\tVolkswagen\n",
      "                Nombre \t\tVento\n",
      "                Precio \t\t5400\n",
      "                ruedas \t\t3\n",
      "                distribuidor \ttu autito\n",
      "                Descripción \tel mejor \n",
      "\n",
      "\n",
      "                Marca \t\tFord\n",
      "                Nombre \t\tRanger\n",
      "                Precio \t\t100.0\n",
      "                Descripción \tCamionero \n",
      "\n"
     ]
    }
   ],
   "source": [
    "for x in fabrica:\n",
    "    print(x,'\\n')"
   ]
  },
  {
   "cell_type": "code",
   "execution_count": 6,
   "metadata": {},
   "outputs": [
    {
     "name": "stdout",
     "output_type": "stream",
     "text": [
      "Vos \n",
      "\n"
     ]
    },
    {
     "ename": "AttributeError",
     "evalue": "'Deportivo' object has no attribute 'autor'",
     "output_type": "error",
     "traceback": [
      "\u001b[1;31m---------------------------------------------------------------------------\u001b[0m",
      "\u001b[1;31mAttributeError\u001b[0m                            Traceback (most recent call last)",
      "\u001b[1;32m<ipython-input-6-5ae3a7f9ba27>\u001b[0m in \u001b[0;36m<module>\u001b[1;34m\u001b[0m\n\u001b[0;32m      1\u001b[0m \u001b[1;31m# Dara error porque el objeto deportivo no tiene el atributo\u001b[0m\u001b[1;33m\u001b[0m\u001b[1;33m\u001b[0m\u001b[1;33m\u001b[0m\u001b[0m\n\u001b[0;32m      2\u001b[0m \u001b[1;32mfor\u001b[0m \u001b[0mx\u001b[0m \u001b[1;32min\u001b[0m \u001b[0mfabrica\u001b[0m\u001b[1;33m:\u001b[0m\u001b[1;33m\u001b[0m\u001b[1;33m\u001b[0m\u001b[0m\n\u001b[1;32m----> 3\u001b[1;33m     \u001b[0mprint\u001b[0m\u001b[1;33m(\u001b[0m\u001b[0mx\u001b[0m\u001b[1;33m.\u001b[0m\u001b[0mautor\u001b[0m\u001b[1;33m,\u001b[0m\u001b[1;34m'\\n'\u001b[0m\u001b[1;33m)\u001b[0m\u001b[1;33m\u001b[0m\u001b[1;33m\u001b[0m\u001b[0m\n\u001b[0m",
      "\u001b[1;31mAttributeError\u001b[0m: 'Deportivo' object has no attribute 'autor'"
     ]
    }
   ],
   "source": [
    "# Dara error porque el objeto deportivo no tiene el atributo \n",
    "for x in fabrica:\n",
    "    print(x.autor,'\\n')"
   ]
  },
  {
   "cell_type": "code",
   "execution_count": 9,
   "metadata": {},
   "outputs": [
    {
     "name": "stdout",
     "output_type": "stream",
     "text": [
      "Fiat Luces de neon Yo\n",
      "Volkswagen Vento 3\n",
      "Ford Ranger\n"
     ]
    }
   ],
   "source": [
    "# Diferenciar tipos de objetos\n",
    "for x in fabrica:\n",
    "#     Verifica si x es una instancia de la clase Auto \n",
    "# Isinstance nos permite disintguir entre clase de forma diferente\n",
    "    if (isinstance(x,Auto)):\n",
    "        print(x.marca,x.nombre)\n",
    "    elif (isinstance(x,Deportivo)):\n",
    "        print(x.marca,x.nombre,x.ruedas)\n",
    "    elif(isinstance(x,Accesorios)):\n",
    "        print(x.marca,x.nombre,x.fabricante)"
   ]
  },
  {
   "cell_type": "code",
   "execution_count": 12,
   "metadata": {},
   "outputs": [],
   "source": [
    "def descuento_accesorio(t,descuento):\n",
    "    t.precio = t.precio - (t.precio/100 * descuento )"
   ]
  },
  {
   "cell_type": "code",
   "execution_count": 13,
   "metadata": {},
   "outputs": [],
   "source": [
    "descuento_accesorio(acc,10)"
   ]
  },
  {
   "cell_type": "code",
   "execution_count": 15,
   "metadata": {},
   "outputs": [
    {
     "data": {
      "text/plain": [
       "900.0"
      ]
     },
     "execution_count": 15,
     "metadata": {},
     "output_type": "execute_result"
    }
   ],
   "source": [
    "acc.precio"
   ]
  },
  {
   "cell_type": "code",
   "execution_count": 17,
   "metadata": {},
   "outputs": [
    {
     "name": "stdout",
     "output_type": "stream",
     "text": [
      "\n",
      "                    Marca \t\tFiat\n",
      "                    Nombre \t\tLuces de neon\n",
      "                    Precio \t\t900.0\n",
      "                    Autor \t\tVos\n",
      "                    Fabricante \tYo\n",
      "                    Descripción \tIlumina mejor\n"
     ]
    }
   ],
   "source": [
    "# Como notamos al llamar a la funcion el objeto es modificado es decir es pasado por referencia\n",
    "# Para evitar esa modificacion dentro de la funcion podemos usar impor copy\n",
    "import copy\n",
    "# Copiamos nuestro objeto\n",
    "copia_deportivo=copy.copy(acc)\n",
    "print(copia_deportivo)"
   ]
  },
  {
   "cell_type": "code",
   "execution_count": null,
   "metadata": {},
   "outputs": [],
   "source": [
    "descuento=10\n",
    "a.precio = a.precio - (a.precio/100 * descuento)"
   ]
  }
 ],
 "metadata": {
  "kernelspec": {
   "display_name": "Python 3",
   "language": "python",
   "name": "python3"
  },
  "language_info": {
   "codemirror_mode": {
    "name": "ipython",
    "version": 3
   },
   "file_extension": ".py",
   "mimetype": "text/x-python",
   "name": "python",
   "nbconvert_exporter": "python",
   "pygments_lexer": "ipython3",
   "version": "3.8.5"
  }
 },
 "nbformat": 4,
 "nbformat_minor": 4
}
