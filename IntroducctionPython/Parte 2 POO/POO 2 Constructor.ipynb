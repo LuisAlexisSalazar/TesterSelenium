{
 "cells": [
  {
   "cell_type": "code",
   "execution_count": 4,
   "metadata": {},
   "outputs": [],
   "source": [
    "# Crear una clase\n",
    "class auto:\n",
    "    # Atributos\n",
    "    color = \"Ninguno\"\n",
    "    \n",
    "    # Constructor con parametros y parametros predefinidos \n",
    "    def __init__(self,puertas=None,color=None):\n",
    "        self.puertas = puertas\n",
    "        self.color = color\n",
    "        if puertas is not None and color is not None:\n",
    "            print(\"se creo un auto con puertas {} y color {}\".format(puertas,color))\n",
    "        \n",
    "    def fabricar(self):\n",
    "        # De esta manera accedemos al atributo que definimos\n",
    "        self.color = \"Rojo\"\n",
    "    def confirmar_fabricacion(self):\n",
    "        if self.color != \"Ninguno\":\n",
    "            print(\"Auto coloreado\")\n",
    "        else:\n",
    "            print(\"No esta coloreado\")"
   ]
  },
  {
   "cell_type": "code",
   "execution_count": 7,
   "metadata": {},
   "outputs": [],
   "source": [
    "a = auto(\"2\",\"Verde\")"
   ]
  }
 ],
 "metadata": {
  "kernelspec": {
   "display_name": "Python 3",
   "language": "python",
   "name": "python3"
  },
  "language_info": {
   "codemirror_mode": {
    "name": "ipython",
    "version": 3
   },
   "file_extension": ".py",
   "mimetype": "text/x-python",
   "name": "python",
   "nbconvert_exporter": "python",
   "pygments_lexer": "ipython3",
   "version": "3.8.5"
  }
 },
 "nbformat": 4,
 "nbformat_minor": 4
}
