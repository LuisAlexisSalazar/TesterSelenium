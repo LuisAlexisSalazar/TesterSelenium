{
 "cells": [
  {
   "cell_type": "code",
   "execution_count": 1,
   "metadata": {},
   "outputs": [
    {
     "name": "stdout",
     "output_type": "stream",
     "text": [
      "Introduce un numero:adsada\n",
      "No introduciste un numero\n"
     ]
    }
   ],
   "source": [
    "# Controla el error pero no nos dara otra oportunidada que vuelva ingresar los daros\n",
    "try: \n",
    "    variable = float(input(\"Introduce un numero:\"))\n",
    "    a = 2\n",
    "    print(\"resultado:\",a*variable)\n",
    "except:\n",
    "    print(\"No introduciste un numero\")\n"
   ]
  },
  {
   "cell_type": "code",
   "execution_count": 3,
   "metadata": {},
   "outputs": [
    {
     "name": "stdout",
     "output_type": "stream",
     "text": [
      "Introduce un numero:\n",
      "No introduciste un numero\n",
      "Introduce un numero:5\n",
      "resultado: 10.0\n"
     ]
    }
   ],
   "source": [
    "# Nos pedira un numero hasta que pongamos el dato indicado\n",
    "while(True):\n",
    "    try: \n",
    "        variable = float(input(\"Introduce un numero:\"))\n",
    "        a = 2\n",
    "        print(\"resultado:\",a*variable)\n",
    "        break\n",
    "    except:\n",
    "        print(\"No introduciste un numero\")\n",
    "    else:\n",
    "        print(\"Se introdujo el dato correctamente\")"
   ]
  },
  {
   "cell_type": "code",
   "execution_count": 4,
   "metadata": {},
   "outputs": [
    {
     "name": "stdout",
     "output_type": "stream",
     "text": [
      "Introduce un numero:a\n",
      "No introduciste un numero\n",
      "Llamada desde el finally\n",
      "Introduce un numero:ss\n",
      "No introduciste un numero\n",
      "Llamada desde el finally\n",
      "Introduce un numero:5\n",
      "resultado: 10.0\n",
      "Llamada desde el finally\n"
     ]
    }
   ],
   "source": [
    "# finaly: se ejecutara siempre aunque ocurra o no el error\n",
    "while(True):\n",
    "    try: \n",
    "        variable = float(input(\"Introduce un numero:\"))\n",
    "        a = 2\n",
    "        print(\"resultado:\",a*variable)\n",
    "        break\n",
    "    except:\n",
    "        print(\"No introduciste un numero\")\n",
    "    else:\n",
    "        print(\"Se introdujo el dato correctamente\")\n",
    "    finally:\n",
    "        print(\"Llamada desde el finally\")"
   ]
  },
  {
   "cell_type": "code",
   "execution_count": null,
   "metadata": {},
   "outputs": [],
   "source": []
  }
 ],
 "metadata": {
  "kernelspec": {
   "display_name": "Python 3",
   "language": "python",
   "name": "python3"
  },
  "language_info": {
   "codemirror_mode": {
    "name": "ipython",
    "version": 3
   },
   "file_extension": ".py",
   "mimetype": "text/x-python",
   "name": "python",
   "nbconvert_exporter": "python",
   "pygments_lexer": "ipython3",
   "version": "3.8.5"
  }
 },
 "nbformat": 4,
 "nbformat_minor": 4
}
