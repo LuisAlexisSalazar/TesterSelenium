{
 "cells": [
  {
   "cell_type": "code",
   "execution_count": 4,
   "metadata": {},
   "outputs": [
    {
     "name": "stdout",
     "output_type": "stream",
     "text": [
      "Numero: asd\n",
      "La cadena debe ser un numero\n"
     ]
    }
   ],
   "source": [
    "try:\n",
    "    a=float(input(\"Numero: \"))\n",
    "    10/a\n",
    "except TypeError:\n",
    "    print(\"Esto es una cadena\")\n",
    "except ValueError:\n",
    "    print(\"La cadena debe ser un numero\")\n",
    "except ZeroDivisionError:\n",
    "    print(\"No se puede dividir entre 0\")\n",
    "# Imprime el nombre del errorque no hallamos puesto en los anteriores except\n",
    "except Exception as x:\n",
    "    print( type(x).__name__ )"
   ]
  },
  {
   "cell_type": "code",
   "execution_count": 16,
   "metadata": {},
   "outputs": [],
   "source": [
    "# Definir un mensaje extra ademas de que python nos indique el error un error especifico\n",
    "def profesor(estudiantes=None):\n",
    "    raise ValueError(\"Debe escribir algo sino no llames a la función\")"
   ]
  },
  {
   "cell_type": "code",
   "execution_count": 10,
   "metadata": {},
   "outputs": [],
   "source": [
    "profesor(\"nombres\")"
   ]
  },
  {
   "cell_type": "code",
   "execution_count": 17,
   "metadata": {},
   "outputs": [
    {
     "ename": "ValueError",
     "evalue": "Debe escribir algo sino no llames a la función",
     "output_type": "error",
     "traceback": [
      "\u001b[1;31m---------------------------------------------------------------------------\u001b[0m",
      "\u001b[1;31mValueError\u001b[0m                                Traceback (most recent call last)",
      "\u001b[1;32m<ipython-input-17-8bc58baf45e2>\u001b[0m in \u001b[0;36m<module>\u001b[1;34m\u001b[0m\n\u001b[1;32m----> 1\u001b[1;33m \u001b[0mprofesor\u001b[0m\u001b[1;33m(\u001b[0m\u001b[1;33m)\u001b[0m\u001b[1;33m\u001b[0m\u001b[1;33m\u001b[0m\u001b[0m\n\u001b[0m",
      "\u001b[1;32m<ipython-input-16-ab7920d2f4ea>\u001b[0m in \u001b[0;36mprofesor\u001b[1;34m(estudiantes)\u001b[0m\n\u001b[0;32m      1\u001b[0m \u001b[1;31m# Definir un mensaje para un tipo de error especifico\u001b[0m\u001b[1;33m\u001b[0m\u001b[1;33m\u001b[0m\u001b[1;33m\u001b[0m\u001b[0m\n\u001b[0;32m      2\u001b[0m \u001b[1;32mdef\u001b[0m \u001b[0mprofesor\u001b[0m\u001b[1;33m(\u001b[0m\u001b[0mestudiantes\u001b[0m\u001b[1;33m=\u001b[0m\u001b[1;32mNone\u001b[0m\u001b[1;33m)\u001b[0m\u001b[1;33m:\u001b[0m\u001b[1;33m\u001b[0m\u001b[1;33m\u001b[0m\u001b[0m\n\u001b[1;32m----> 3\u001b[1;33m     \u001b[1;32mraise\u001b[0m \u001b[0mValueError\u001b[0m\u001b[1;33m(\u001b[0m\u001b[1;34m\"Debe escribir algo sino no llames a la función\"\u001b[0m\u001b[1;33m)\u001b[0m\u001b[1;33m\u001b[0m\u001b[1;33m\u001b[0m\u001b[0m\n\u001b[0m",
      "\u001b[1;31mValueError\u001b[0m: Debe escribir algo sino no llames a la función"
     ]
    }
   ],
   "source": [
    "profesor()"
   ]
  },
  {
   "cell_type": "code",
   "execution_count": 21,
   "metadata": {},
   "outputs": [],
   "source": [
    "# Definir un mensaje para un tipo de error especifico\n",
    "def profesor(estudiantes=None):\n",
    "    try:\n",
    "        if estudiantes is None: \n",
    "#             Llamar el error y asi de esta manera por consecuente se llamara el except\n",
    "            raise ValueError\n",
    "    except:\n",
    "        print(\"El valor nulo no es permitido\")"
   ]
  },
  {
   "cell_type": "code",
   "execution_count": 22,
   "metadata": {},
   "outputs": [
    {
     "name": "stdout",
     "output_type": "stream",
     "text": [
      "El valor nulo no es permitido\n"
     ]
    }
   ],
   "source": [
    "profesor()"
   ]
  }
 ],
 "metadata": {
  "kernelspec": {
   "display_name": "Python 3",
   "language": "python",
   "name": "python3"
  },
  "language_info": {
   "codemirror_mode": {
    "name": "ipython",
    "version": 3
   },
   "file_extension": ".py",
   "mimetype": "text/x-python",
   "name": "python",
   "nbconvert_exporter": "python",
   "pygments_lexer": "ipython3",
   "version": "3.8.5"
  }
 },
 "nbformat": 4,
 "nbformat_minor": 4
}
