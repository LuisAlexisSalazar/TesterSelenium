{
 "cells": [
  {
   "cell_type": "code",
   "execution_count": 7,
   "metadata": {},
   "outputs": [
    {
     "name": "stdout",
     "output_type": "stream",
     "text": [
      "1\n"
     ]
    }
   ],
   "source": [
    "# Argumentos\n",
    "def funcion(a,b):\n",
    "    return a-b\n",
    "\n",
    "# Pasar Argumentos por valor el valor se le dara la posicion\n",
    "# en como pusimos las avariables a las funciones\n",
    "print(funcion(2,1))"
   ]
  },
  {
   "cell_type": "code",
   "execution_count": 6,
   "metadata": {},
   "outputs": [
    {
     "name": "stdout",
     "output_type": "stream",
     "text": [
      "-1\n"
     ]
    }
   ],
   "source": [
    "# Pasar Argumentos por nombre\n",
    "# pasamos los valores a la funcion indicando el nombre de la variable \n",
    "print(funcion(b=2,a=1))\n",
    "# Dentro de la funcion a=1 y b=2 a pesar que el orden de ingreso el alrevez"
   ]
  },
  {
   "cell_type": "code",
   "execution_count": 12,
   "metadata": {},
   "outputs": [],
   "source": [
    "# Argumentos por defecto como nulos\n",
    "def funcion2(x = None,i = None):\n",
    "    if not x or not i:\n",
    "        print(\"Debes ingresar 2 numeros a la funcion\")\n",
    "    else:\n",
    "        for a in range(i):\n",
    "            print(\"{}*{} = {}\".format(x,a,x*a))"
   ]
  },
  {
   "cell_type": "code",
   "execution_count": 13,
   "metadata": {},
   "outputs": [
    {
     "name": "stdout",
     "output_type": "stream",
     "text": [
      "Debes ingresar 2 numeros a la funcion\n"
     ]
    }
   ],
   "source": [
    "funcion2()"
   ]
  },
  {
   "cell_type": "code",
   "execution_count": 14,
   "metadata": {},
   "outputs": [
    {
     "name": "stdout",
     "output_type": "stream",
     "text": [
      "3*0 = 0\n",
      "3*1 = 3\n",
      "3*2 = 6\n",
      "3*3 = 9\n",
      "3*4 = 12\n",
      "3*5 = 15\n",
      "3*6 = 18\n",
      "3*7 = 21\n",
      "3*8 = 24\n",
      "3*9 = 27\n"
     ]
    }
   ],
   "source": [
    "funcion2(3,10)"
   ]
  },
  {
   "cell_type": "code",
   "execution_count": 18,
   "metadata": {},
   "outputs": [
    {
     "name": "stdout",
     "output_type": "stream",
     "text": [
      "Desde la funcion: v = 50\n",
      "Desde principal: v = 5\n"
     ]
    }
   ],
   "source": [
    "# Importante: lo que pasa en la funcion se queda en la funcion no es afectada la variable \n",
    "def funcion3(v):\n",
    "    v*=10\n",
    "    print(\"Desde la funcion: v = {}\".format(v))\n",
    "\n",
    "v = 5\n",
    "funcion3(v)\n",
    "print(\"Desde principal: v = {}\".format(v))\n"
   ]
  },
  {
   "cell_type": "code",
   "execution_count": 22,
   "metadata": {},
   "outputs": [
    {
     "name": "stdout",
     "output_type": "stream",
     "text": [
      "Desde la Funcion:  [10, 20, 30, 40, 50]\n",
      "Desde el principal:  [10, 20, 30, 40, 50]\n"
     ]
    }
   ],
   "source": [
    "# Argumentos en listas estas si son afectadas dentro de la funcion por que son pasadas por referencia\n",
    "\n",
    "def funcion4(numeros):\n",
    "    for x,i in enumerate(numeros):\n",
    "        numeros[x] *= 10\n",
    "    print(\"Desde la Funcion: \",numeros)\n",
    "\n",
    "numeros = [1,2,3,4,5]\n",
    "funcion4(numeros)\n",
    "print(\"Desde el principal: \",numeros)"
   ]
  },
  {
   "cell_type": "code",
   "execution_count": 24,
   "metadata": {},
   "outputs": [
    {
     "name": "stdout",
     "output_type": "stream",
     "text": [
      "Desde la Funcion:  [10, 20, 30, 40, 50]\n",
      "Desde la Funcion:  [10, 20, 30, 40, 50]\n",
      "Desde el principal:  [1, 2, 3, 4, 5]\n"
     ]
    }
   ],
   "source": [
    "# Para lograr que la lista no afecte dentro de la funcion es mandarle a la funcion una copia de la lista\n",
    "# Podemos mandar la lista con [:] o copy()\n",
    "\n",
    "funcion4(numeros[:])\n",
    "funcion4(numeros.copy())\n",
    "print(\"Desde el principal: \",numeros)"
   ]
  },
  {
   "cell_type": "code",
   "execution_count": 29,
   "metadata": {},
   "outputs": [
    {
     "name": "stdout",
     "output_type": "stream",
     "text": [
      "50\n",
      "5\n"
     ]
    }
   ],
   "source": [
    "# Paso por referencia a las variables normales para que sea afectada dentro de la funcion\n",
    "def funcion5(valor):\n",
    "    valor *= 10\n",
    "    print(valor)\n",
    "    \n",
    "valor = 5\n",
    "funcion5(valor)\n",
    "print(valor)"
   ]
  },
  {
   "cell_type": "code",
   "execution_count": null,
   "metadata": {},
   "outputs": [],
   "source": []
  }
 ],
 "metadata": {
  "kernelspec": {
   "display_name": "Python 3",
   "language": "python",
   "name": "python3"
  },
  "language_info": {
   "codemirror_mode": {
    "name": "ipython",
    "version": 3
   },
   "file_extension": ".py",
   "mimetype": "text/x-python",
   "name": "python",
   "nbconvert_exporter": "python",
   "pygments_lexer": "ipython3",
   "version": "3.8.5"
  }
 },
 "nbformat": 4,
 "nbformat_minor": 4
}
