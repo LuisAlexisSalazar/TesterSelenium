{
 "cells": [
  {
   "cell_type": "code",
   "execution_count": 1,
   "metadata": {},
   "outputs": [
    {
     "name": "stdout",
     "output_type": "stream",
     "text": [
      "Hola estudiantes\n"
     ]
    }
   ],
   "source": [
    "# Declarar funcion\n",
    "def estudiantes():\n",
    "    print(\"Hola estudiantes\")\n"
   ]
  },
  {
   "cell_type": "code",
   "execution_count": 2,
   "metadata": {},
   "outputs": [
    {
     "name": "stdout",
     "output_type": "stream",
     "text": [
      "Hola estudiantes\n"
     ]
    }
   ],
   "source": [
    "# Llamar a una funcion\n",
    "estudiantes()"
   ]
  },
  {
   "cell_type": "code",
   "execution_count": 3,
   "metadata": {},
   "outputs": [
    {
     "name": "stdout",
     "output_type": "stream",
     "text": [
      "7 * 0 = 0\n",
      "7 * 1 = 7\n",
      "7 * 2 = 14\n",
      "7 * 3 = 21\n",
      "7 * 4 = 28\n",
      "7 * 5 = 35\n",
      "7 * 6 = 42\n",
      "7 * 7 = 49\n",
      "7 * 8 = 56\n",
      "7 * 9 = 63\n"
     ]
    }
   ],
   "source": [
    "# Nota la variable dentro de las funciones mueren dentro de esta\n",
    "def tabla_del_7():\n",
    "    for x in range(10):\n",
    "        print(\"7 * {} = {}\".format(x , x*7))\n",
    "\n",
    "tabla_del_7()"
   ]
  },
  {
   "cell_type": "code",
   "execution_count": 4,
   "metadata": {},
   "outputs": [
    {
     "name": "stdout",
     "output_type": "stream",
     "text": [
      "Luis\n",
      "Luis\n"
     ]
    }
   ],
   "source": [
    "# Crear variables globales dentro de funciones\n",
    "def cuidado():\n",
    "    global variable\n",
    "    variable='Luis'\n",
    "    print(variable)\n",
    "cuidado()\n",
    "\n",
    "# LLamaremos una variable dentro de la funcion\n",
    "print(variable)"
   ]
  },
  {
   "cell_type": "code",
   "execution_count": null,
   "metadata": {},
   "outputs": [],
   "source": []
  }
 ],
 "metadata": {
  "kernelspec": {
   "display_name": "Python 3",
   "language": "python",
   "name": "python3"
  },
  "language_info": {
   "codemirror_mode": {
    "name": "ipython",
    "version": 3
   },
   "file_extension": ".py",
   "mimetype": "text/x-python",
   "name": "python",
   "nbconvert_exporter": "python",
   "pygments_lexer": "ipython3",
   "version": "3.8.5"
  }
 },
 "nbformat": 4,
 "nbformat_minor": 4
}
