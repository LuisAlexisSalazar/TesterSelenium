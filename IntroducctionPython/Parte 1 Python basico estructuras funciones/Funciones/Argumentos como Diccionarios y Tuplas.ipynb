{
 "cells": [
  {
   "cell_type": "code",
   "execution_count": 2,
   "metadata": {},
   "outputs": [
    {
     "name": "stdout",
     "output_type": "stream",
     "text": [
      "1\n",
      "1\n",
      "2\n",
      "3\n",
      "4\n",
      "[5, 6, 7]\n"
     ]
    }
   ],
   "source": [
    "# Argumentos como tuplas\n",
    "# al poner el * nos indica que no se sabe la cantidad exacta de argumentos\n",
    "# Estos argumentos son pasados por posicion\n",
    "def funcion1(*argumentos):\n",
    "    for argumento in argumentos:\n",
    "        print(argumento)\n",
    "        \n",
    "# Llamar a la funcion con varios argumentos\n",
    "funcion1(\"1\",1,2,3,\"4\",[5,6,7])"
   ]
  },
  {
   "cell_type": "code",
   "execution_count": 13,
   "metadata": {},
   "outputs": [
    {
     "name": "stdout",
     "output_type": "stream",
     "text": [
      "Clave: alvaro    Valor: Chirou\n",
      "Clave: Estudiantes    Valor: Genios\n",
      "Clave: calificacion    Valor: [7, 8, 9]\n"
     ]
    }
   ],
   "source": [
    "# Argumento como diccionarios\n",
    "# Funcion con argumentos como diccionarios\n",
    "def funcion2(**argumentosDiccionarios):\n",
    "    for argumento in argumentosDiccionarios:\n",
    "        print(\"Clave:\",argumento,\"   Valor:\",argumentosDiccionarios[argumento])\n",
    "\n",
    "funcion2(alvaro='Chirou',Estudiantes='Genios',calificacion=[7,8,9])"
   ]
  },
  {
   "cell_type": "code",
   "execution_count": 16,
   "metadata": {},
   "outputs": [],
   "source": [
    "# Argumentos como tuplas y diccionarios\n",
    "def funcion3(*tuplas,**diccionarios):\n",
    "    b=0\n",
    "    for valorTupla in tuplas:\n",
    "        b+=valorTupla\n",
    "    print(b)\n",
    "    for clave in diccionarios:\n",
    "        print(clave,\" \",diccionarios[clave])"
   ]
  },
  {
   "cell_type": "code",
   "execution_count": 18,
   "metadata": {},
   "outputs": [
    {
     "name": "stdout",
     "output_type": "stream",
     "text": [
      "10\n",
      "alvaro   Chirou\n",
      "Estudiantes   Genios\n",
      "calificacion   [7, 8, 9]\n"
     ]
    }
   ],
   "source": [
    "funcion3(1,2,3,4,\n",
    "alvaro='Chirou',Estudiantes='Genios',calificacion=[7,8,9])"
   ]
  }
 ],
 "metadata": {
  "kernelspec": {
   "display_name": "Python 3",
   "language": "python",
   "name": "python3"
  },
  "language_info": {
   "codemirror_mode": {
    "name": "ipython",
    "version": 3
   },
   "file_extension": ".py",
   "mimetype": "text/x-python",
   "name": "python",
   "nbconvert_exporter": "python",
   "pygments_lexer": "ipython3",
   "version": "3.8.5"
  }
 },
 "nbformat": 4,
 "nbformat_minor": 4
}
