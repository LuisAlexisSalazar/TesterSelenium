{
 "cells": [
  {
   "cell_type": "code",
   "execution_count": 2,
   "metadata": {},
   "outputs": [
    {
     "name": "stdout",
     "output_type": "stream",
     "text": [
      "Elige tu camino\n",
      "escribe emepzar para iniciar el programa empezar\n",
      " Que camino quieres elegir\")\n",
      "    1: saludar\n",
      "    2: multiplicar\n",
      "    3: salir\n",
      "2\n",
      "1° introduce el valor a multiplicar5\n",
      "2° introduce el valor a multiplicar3\n",
      "Resultado es : 15.0\n",
      " Que camino quieres elegir\")\n",
      "    1: saludar\n",
      "    2: multiplicar\n",
      "    3: salir\n",
      "4\n",
      "opcion no valida\n",
      " Que camino quieres elegir\")\n",
      "    1: saludar\n",
      "    2: multiplicar\n",
      "    3: salir\n",
      "3\n",
      "saliendo del programa\n"
     ]
    }
   ],
   "source": [
    "print('Elige tu camino')\n",
    "inicio = input(\"escribe emepzar para iniciar el programa \")\n",
    "\n",
    "while (inicio=='empezar'):\n",
    "    print(\"\"\" Que camino quieres elegir\")\n",
    "    1: saludar\n",
    "    2: multiplicar\n",
    "    3: salir\"\"\" )\n",
    "    opcion=input()\n",
    "    if opcion=='1':\n",
    "        print(\"te saludo\")\n",
    "    elif opcion=='2':\n",
    "        numero1=float(input('1° introduce el valor a multiplicar'))\n",
    "        numero2=float(input('2° introduce el valor a multiplicar'))\n",
    "        print('Resultado es :', numero1*numero2)\n",
    "    elif opcion == '3':\n",
    "        print('saliendo del programa')\n",
    "        break\n",
    "    else:\n",
    "        print('opcion no valida')\n"
   ]
  },
  {
   "cell_type": "code",
   "execution_count": 5,
   "metadata": {},
   "outputs": [
    {
     "name": "stdout",
     "output_type": "stream",
     "text": [
      "1\n",
      "2\n",
      "3\n",
      "4\n",
      "5\n",
      "6\n",
      "7\n",
      "8\n",
      "9\n",
      "10\n"
     ]
    }
   ],
   "source": [
    "lista=[1,2,3,4,5,6,7,8,9,10]\n",
    "indice = 0\n",
    "while indice < len(lista):\n",
    "    print(lista[indice])\n",
    "    indice += 1"
   ]
  },
  {
   "cell_type": "code",
   "execution_count": null,
   "metadata": {},
   "outputs": [],
   "source": []
  }
 ],
 "metadata": {
  "kernelspec": {
   "display_name": "Python 3",
   "language": "python",
   "name": "python3"
  }
 },
 "nbformat": 4,
 "nbformat_minor": 4
}
